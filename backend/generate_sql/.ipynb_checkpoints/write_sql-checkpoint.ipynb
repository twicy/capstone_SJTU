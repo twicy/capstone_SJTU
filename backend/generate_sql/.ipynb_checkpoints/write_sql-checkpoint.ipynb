{
 "cells": [
  {
   "cell_type": "code",
   "execution_count": 1,
   "id": "0bfc9664",
   "metadata": {},
   "outputs": [],
   "source": [
    "import pandas as pd\n",
    "import mysql.connector\n",
    "from datetime import datetime"
   ]
  },
  {
   "cell_type": "code",
   "execution_count": 2,
   "id": "c67e1ea2",
   "metadata": {},
   "outputs": [],
   "source": [
    "warning_list = pd.read_csv(\"warning_list.csv\",encoding=\"utf-8\",index_col=[0])\n",
    "warning_list[\"index\"] = warning_list[\"index\"].apply(int)"
   ]
  },
  {
   "cell_type": "code",
   "execution_count": 3,
   "id": "9844020e",
   "metadata": {
    "scrolled": true
   },
   "outputs": [
    {
     "data": {
      "text/html": [
       "<div>\n",
       "<style scoped>\n",
       "    .dataframe tbody tr th:only-of-type {\n",
       "        vertical-align: middle;\n",
       "    }\n",
       "\n",
       "    .dataframe tbody tr th {\n",
       "        vertical-align: top;\n",
       "    }\n",
       "\n",
       "    .dataframe thead th {\n",
       "        text-align: right;\n",
       "    }\n",
       "</style>\n",
       "<table border=\"1\" class=\"dataframe\">\n",
       "  <thead>\n",
       "    <tr style=\"text-align: right;\">\n",
       "      <th></th>\n",
       "      <th>index</th>\n",
       "      <th>label_Chinese</th>\n",
       "      <th>label_English</th>\n",
       "      <th>function_name</th>\n",
       "      <th>function_Chinese</th>\n",
       "      <th>function_English</th>\n",
       "      <th>group_label_Chinese</th>\n",
       "      <th>group_label_English</th>\n",
       "      <th>machine_obj_Chinese</th>\n",
       "      <th>machine_obj_English</th>\n",
       "    </tr>\n",
       "  </thead>\n",
       "  <tbody>\n",
       "    <tr>\n",
       "      <th>0</th>\n",
       "      <td>0</td>\n",
       "      <td>系统启动</td>\n",
       "      <td>SYSTEM START0UP</td>\n",
       "      <td>cb_gp_powerup_function</td>\n",
       "      <td>功能: 控制柜启动</td>\n",
       "      <td>FUNCTION: CABINET AT START0UP</td>\n",
       "      <td>电控柜公共组件</td>\n",
       "      <td>COMMON CABINET GROUPS</td>\n",
       "      <td>主机电柜</td>\n",
       "      <td>cb_main_maCHine</td>\n",
       "    </tr>\n",
       "    <tr>\n",
       "      <th>1</th>\n",
       "      <td>1</td>\n",
       "      <td>警告：储存器内的数据被删除</td>\n",
       "      <td>WARNING: MEMORIZED DATA CANCELLED</td>\n",
       "      <td>cb_gp_powerup_function</td>\n",
       "      <td>功能: 控制柜启动</td>\n",
       "      <td>FUNCTION: CABINET AT START0UP</td>\n",
       "      <td>电控柜公共组件</td>\n",
       "      <td>COMMON CABINET GROUPS</td>\n",
       "      <td>主机电柜</td>\n",
       "      <td>cb_main_maCHine</td>\n",
       "    </tr>\n",
       "    <tr>\n",
       "      <th>2</th>\n",
       "      <td>2</td>\n",
       "      <td>与YB511电控柜通讯故障</td>\n",
       "      <td>DOWNSTREAM COMMUNICATION FAULT 0 YB511</td>\n",
       "      <td>cb_main_support_function</td>\n",
       "      <td>控制柜辅助功能</td>\n",
       "      <td>CABINET SUPPORT FUNCTION</td>\n",
       "      <td>电控柜主组件</td>\n",
       "      <td>MAIN CABINET GROUP</td>\n",
       "      <td>主机电柜</td>\n",
       "      <td>cb_main_maCHine</td>\n",
       "    </tr>\n",
       "    <tr>\n",
       "      <th>3</th>\n",
       "      <td>3</td>\n",
       "      <td>故障：看门狗监视器Ｋ３</td>\n",
       "      <td>BREAKDOWN: WATCHDOW MONITOR K3</td>\n",
       "      <td>cb_main_support_function</td>\n",
       "      <td>控制柜辅助功能</td>\n",
       "      <td>CABINET SUPPORT FUNCTION</td>\n",
       "      <td>电控柜主组件</td>\n",
       "      <td>MAIN CABINET GROUP</td>\n",
       "      <td>主机电柜</td>\n",
       "      <td>cb_main_maCHine</td>\n",
       "    </tr>\n",
       "    <tr>\n",
       "      <th>4</th>\n",
       "      <td>4</td>\n",
       "      <td>防护罩继电器  ２Ｋ２０失效</td>\n",
       "      <td>RELAY FAULT 2K20  GUARD</td>\n",
       "      <td>cb_gp_xx_sg_safety_guard_line_function</td>\n",
       "      <td>0</td>\n",
       "      <td>0</td>\n",
       "      <td>电控柜主组件</td>\n",
       "      <td>MAIN CABINET GROUP</td>\n",
       "      <td>主机电柜</td>\n",
       "      <td>cb_main_maCHine</td>\n",
       "    </tr>\n",
       "  </tbody>\n",
       "</table>\n",
       "</div>"
      ],
      "text/plain": [
       "   index   label_Chinese                           label_English  \\\n",
       "0      0            系统启动                         SYSTEM START0UP   \n",
       "1      1   警告：储存器内的数据被删除       WARNING: MEMORIZED DATA CANCELLED   \n",
       "2      2   与YB511电控柜通讯故障  DOWNSTREAM COMMUNICATION FAULT 0 YB511   \n",
       "3      3     故障：看门狗监视器Ｋ３          BREAKDOWN: WATCHDOW MONITOR K3   \n",
       "4      4  防护罩继电器  ２Ｋ２０失效                 RELAY FAULT 2K20  GUARD   \n",
       "\n",
       "                            function_name function_Chinese  \\\n",
       "0                  cb_gp_powerup_function        功能: 控制柜启动   \n",
       "1                  cb_gp_powerup_function        功能: 控制柜启动   \n",
       "2                cb_main_support_function          控制柜辅助功能   \n",
       "3                cb_main_support_function          控制柜辅助功能   \n",
       "4  cb_gp_xx_sg_safety_guard_line_function                0   \n",
       "\n",
       "                function_English group_label_Chinese    group_label_English  \\\n",
       "0  FUNCTION: CABINET AT START0UP             电控柜公共组件  COMMON CABINET GROUPS   \n",
       "1  FUNCTION: CABINET AT START0UP             电控柜公共组件  COMMON CABINET GROUPS   \n",
       "2       CABINET SUPPORT FUNCTION              电控柜主组件     MAIN CABINET GROUP   \n",
       "3       CABINET SUPPORT FUNCTION              电控柜主组件     MAIN CABINET GROUP   \n",
       "4                              0              电控柜主组件     MAIN CABINET GROUP   \n",
       "\n",
       "  machine_obj_Chinese machine_obj_English  \n",
       "0                主机电柜     cb_main_maCHine  \n",
       "1                主机电柜     cb_main_maCHine  \n",
       "2                主机电柜     cb_main_maCHine  \n",
       "3                主机电柜     cb_main_maCHine  \n",
       "4                主机电柜     cb_main_maCHine  "
      ]
     },
     "execution_count": 3,
     "metadata": {},
     "output_type": "execute_result"
    }
   ],
   "source": [
    "warning_list.head(5)"
   ]
  },
  {
   "cell_type": "code",
   "execution_count": 4,
   "id": "b84736a9",
   "metadata": {},
   "outputs": [],
   "source": [
    "mydb = mysql.connector.connect(\n",
    "  host=\"localhost\",\n",
    "  user=\"dong12\",\n",
    "  password=\"ve450\",\n",
    "  database=\"dong\"\n",
    ")"
   ]
  },
  {
   "cell_type": "code",
   "execution_count": 5,
   "id": "e8deded3",
   "metadata": {},
   "outputs": [
    {
     "data": {
      "text/plain": [
       "Index(['index', 'label_Chinese', 'label_English', 'function_name',\n",
       "       'function_Chinese', 'function_English', 'group_label_Chinese',\n",
       "       'group_label_English', 'machine_obj_Chinese', 'machine_obj_English'],\n",
       "      dtype='object')"
      ]
     },
     "execution_count": 5,
     "metadata": {},
     "output_type": "execute_result"
    }
   ],
   "source": [
    "column_name = warning_list.columns\n",
    "column_name"
   ]
  },
  {
   "cell_type": "code",
   "execution_count": 25,
   "id": "4a57f109",
   "metadata": {},
   "outputs": [
    {
     "data": {
      "text/plain": [
       "'CREATE TABLE warning (id INT PRIMARY KEY, label_Chinese VARCHAR(255), label_English VARCHAR(255), function_name VARCHAR(255), function_Chinese VARCHAR(255), function_English VARCHAR(255), group_label_Chinese VARCHAR(255), group_label_English VARCHAR(255), '"
      ]
     },
     "execution_count": 25,
     "metadata": {},
     "output_type": "execute_result"
    }
   ],
   "source": [
    "# can not use index as column name\n",
    "sql_sentence1 = \"CREATE TABLE warning (id INT PRIMARY KEY, \"\n",
    "for i in range(1, len(column_name)-2):\n",
    "    temp = column_name[i] + \" VARCHAR(255), \"\n",
    "    sql_sentence1 += temp\n",
    "sql_sentence1"
   ]
  },
  {
   "cell_type": "code",
   "execution_count": 26,
   "id": "4ec3ea80",
   "metadata": {},
   "outputs": [
    {
     "data": {
      "text/plain": [
       "'CREATE TABLE warning (id INT PRIMARY KEY, label_Chinese VARCHAR(255), label_English VARCHAR(255), function_name VARCHAR(255), function_Chinese VARCHAR(255), function_English VARCHAR(255), group_label_Chinese VARCHAR(255), group_label_English VARCHAR(255), value INT default 0, time datetime default CURRENT_TIMESTAMP);'"
      ]
     },
     "execution_count": 26,
     "metadata": {},
     "output_type": "execute_result"
    }
   ],
   "source": [
    "sql_sentence1 += \"value INT default 0, time datetime default CURRENT_TIMESTAMP);\"\n",
    "sql_sentence1"
   ]
  },
  {
   "cell_type": "code",
   "execution_count": 27,
   "id": "1b0e2b56",
   "metadata": {},
   "outputs": [],
   "source": [
    "mycursor = mydb.cursor()\n",
    "mycursor.execute(sql_sentence1)"
   ]
  },
  {
   "cell_type": "code",
   "execution_count": 28,
   "id": "d94187fc",
   "metadata": {},
   "outputs": [
    {
     "name": "stdout",
     "output_type": "stream",
     "text": [
      "('Persons',)\n",
      "('customers',)\n",
      "('warning',)\n"
     ]
    }
   ],
   "source": [
    "mycursor.execute(\"SHOW TABLES\")\n",
    "\n",
    "for x in mycursor:\n",
    "    print(x)"
   ]
  },
  {
   "cell_type": "code",
   "execution_count": 29,
   "id": "8374510c",
   "metadata": {},
   "outputs": [],
   "source": [
    "sql_sentence = \"SELECT * FROM warning;\"\n",
    "myresult = mycursor.fetchall()\n",
    "for x in myresult:\n",
    "    print(x)"
   ]
  },
  {
   "cell_type": "markdown",
   "id": "51632f9b",
   "metadata": {},
   "source": [
    "## start inserting value"
   ]
  },
  {
   "cell_type": "code",
   "execution_count": null,
   "id": "ac1335af",
   "metadata": {},
   "outputs": [],
   "source": [
    "val = []\n",
    "for i"
   ]
  }
 ],
 "metadata": {
  "kernelspec": {
   "display_name": "my_envs",
   "language": "python",
   "name": "my_envs"
  },
  "language_info": {
   "codemirror_mode": {
    "name": "ipython",
    "version": 3
   },
   "file_extension": ".py",
   "mimetype": "text/x-python",
   "name": "python",
   "nbconvert_exporter": "python",
   "pygments_lexer": "ipython3",
   "version": "3.10.4"
  }
 },
 "nbformat": 4,
 "nbformat_minor": 5
}
