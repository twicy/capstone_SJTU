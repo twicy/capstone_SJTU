{
 "cells": [
  {
   "cell_type": "code",
   "execution_count": 1,
   "id": "b85d64b8",
   "metadata": {},
   "outputs": [],
   "source": [
    "import pandas as pd\n",
    "import mysql.connector\n",
    "from datetime import datetime"
   ]
  },
  {
   "cell_type": "code",
   "execution_count": 2,
   "id": "0e3b6c6c",
   "metadata": {},
   "outputs": [
    {
     "name": "stdout",
     "output_type": "stream",
     "text": [
      "index                   int64\n",
      "label_Chinese          object\n",
      "label_English          object\n",
      "function_name          object\n",
      "function_Chinese       object\n",
      "function_English       object\n",
      "group_label_Chinese    object\n",
      "group_label_English    object\n",
      "machine_obj_Chinese    object\n",
      "machine_obj_English    object\n",
      "dtype: object\n"
     ]
    }
   ],
   "source": [
    "warning_list = pd.read_csv(\"warning_list.csv\",encoding=\"utf-8\",index_col=[0])\n",
    "\n",
    "warning_list[\"index\"] = warning_list[\"index\"].apply(lambda x: int(x))\n",
    "\n",
    "print(warning_list.dtypes)"
   ]
  },
  {
   "cell_type": "code",
   "execution_count": 3,
   "id": "47d9e307",
   "metadata": {
    "scrolled": true
   },
   "outputs": [
    {
     "data": {
      "text/html": [
       "<div>\n",
       "<style scoped>\n",
       "    .dataframe tbody tr th:only-of-type {\n",
       "        vertical-align: middle;\n",
       "    }\n",
       "\n",
       "    .dataframe tbody tr th {\n",
       "        vertical-align: top;\n",
       "    }\n",
       "\n",
       "    .dataframe thead th {\n",
       "        text-align: right;\n",
       "    }\n",
       "</style>\n",
       "<table border=\"1\" class=\"dataframe\">\n",
       "  <thead>\n",
       "    <tr style=\"text-align: right;\">\n",
       "      <th></th>\n",
       "      <th>index</th>\n",
       "      <th>label_Chinese</th>\n",
       "      <th>label_English</th>\n",
       "      <th>function_name</th>\n",
       "      <th>function_Chinese</th>\n",
       "      <th>function_English</th>\n",
       "      <th>group_label_Chinese</th>\n",
       "      <th>group_label_English</th>\n",
       "      <th>machine_obj_Chinese</th>\n",
       "      <th>machine_obj_English</th>\n",
       "    </tr>\n",
       "  </thead>\n",
       "  <tbody>\n",
       "    <tr>\n",
       "      <th>0</th>\n",
       "      <td>0</td>\n",
       "      <td>系统启动</td>\n",
       "      <td>SYSTEM START0UP</td>\n",
       "      <td>cb_gp_powerup_function</td>\n",
       "      <td>功能: 控制柜启动</td>\n",
       "      <td>FUNCTION: CABINET AT START0UP</td>\n",
       "      <td>电控柜公共组件</td>\n",
       "      <td>COMMON CABINET GROUPS</td>\n",
       "      <td>主机电柜</td>\n",
       "      <td>cb_main_maCHine</td>\n",
       "    </tr>\n",
       "    <tr>\n",
       "      <th>1</th>\n",
       "      <td>1</td>\n",
       "      <td>警告：储存器内的数据被删除</td>\n",
       "      <td>WARNING: MEMORIZED DATA CANCELLED</td>\n",
       "      <td>cb_gp_powerup_function</td>\n",
       "      <td>功能: 控制柜启动</td>\n",
       "      <td>FUNCTION: CABINET AT START0UP</td>\n",
       "      <td>电控柜公共组件</td>\n",
       "      <td>COMMON CABINET GROUPS</td>\n",
       "      <td>主机电柜</td>\n",
       "      <td>cb_main_maCHine</td>\n",
       "    </tr>\n",
       "    <tr>\n",
       "      <th>2</th>\n",
       "      <td>2</td>\n",
       "      <td>与YB511电控柜通讯故障</td>\n",
       "      <td>DOWNSTREAM COMMUNICATION FAULT 0 YB511</td>\n",
       "      <td>cb_main_support_function</td>\n",
       "      <td>控制柜辅助功能</td>\n",
       "      <td>CABINET SUPPORT FUNCTION</td>\n",
       "      <td>电控柜主组件</td>\n",
       "      <td>MAIN CABINET GROUP</td>\n",
       "      <td>主机电柜</td>\n",
       "      <td>cb_main_maCHine</td>\n",
       "    </tr>\n",
       "    <tr>\n",
       "      <th>3</th>\n",
       "      <td>3</td>\n",
       "      <td>故障：看门狗监视器Ｋ３</td>\n",
       "      <td>BREAKDOWN: WATCHDOW MONITOR K3</td>\n",
       "      <td>cb_main_support_function</td>\n",
       "      <td>控制柜辅助功能</td>\n",
       "      <td>CABINET SUPPORT FUNCTION</td>\n",
       "      <td>电控柜主组件</td>\n",
       "      <td>MAIN CABINET GROUP</td>\n",
       "      <td>主机电柜</td>\n",
       "      <td>cb_main_maCHine</td>\n",
       "    </tr>\n",
       "    <tr>\n",
       "      <th>4</th>\n",
       "      <td>4</td>\n",
       "      <td>防护罩继电器  ２Ｋ２０失效</td>\n",
       "      <td>RELAY FAULT 2K20  GUARD</td>\n",
       "      <td>cb_gp_xx_sg_safety_guard_line_function</td>\n",
       "      <td>0</td>\n",
       "      <td>0</td>\n",
       "      <td>电控柜主组件</td>\n",
       "      <td>MAIN CABINET GROUP</td>\n",
       "      <td>主机电柜</td>\n",
       "      <td>cb_main_maCHine</td>\n",
       "    </tr>\n",
       "  </tbody>\n",
       "</table>\n",
       "</div>"
      ],
      "text/plain": [
       "   index   label_Chinese                           label_English  \\\n",
       "0      0            系统启动                         SYSTEM START0UP   \n",
       "1      1   警告：储存器内的数据被删除       WARNING: MEMORIZED DATA CANCELLED   \n",
       "2      2   与YB511电控柜通讯故障  DOWNSTREAM COMMUNICATION FAULT 0 YB511   \n",
       "3      3     故障：看门狗监视器Ｋ３          BREAKDOWN: WATCHDOW MONITOR K3   \n",
       "4      4  防护罩继电器  ２Ｋ２０失效                 RELAY FAULT 2K20  GUARD   \n",
       "\n",
       "                            function_name function_Chinese  \\\n",
       "0                  cb_gp_powerup_function        功能: 控制柜启动   \n",
       "1                  cb_gp_powerup_function        功能: 控制柜启动   \n",
       "2                cb_main_support_function          控制柜辅助功能   \n",
       "3                cb_main_support_function          控制柜辅助功能   \n",
       "4  cb_gp_xx_sg_safety_guard_line_function                0   \n",
       "\n",
       "                function_English group_label_Chinese    group_label_English  \\\n",
       "0  FUNCTION: CABINET AT START0UP             电控柜公共组件  COMMON CABINET GROUPS   \n",
       "1  FUNCTION: CABINET AT START0UP             电控柜公共组件  COMMON CABINET GROUPS   \n",
       "2       CABINET SUPPORT FUNCTION              电控柜主组件     MAIN CABINET GROUP   \n",
       "3       CABINET SUPPORT FUNCTION              电控柜主组件     MAIN CABINET GROUP   \n",
       "4                              0              电控柜主组件     MAIN CABINET GROUP   \n",
       "\n",
       "  machine_obj_Chinese machine_obj_English  \n",
       "0                主机电柜     cb_main_maCHine  \n",
       "1                主机电柜     cb_main_maCHine  \n",
       "2                主机电柜     cb_main_maCHine  \n",
       "3                主机电柜     cb_main_maCHine  \n",
       "4                主机电柜     cb_main_maCHine  "
      ]
     },
     "execution_count": 3,
     "metadata": {},
     "output_type": "execute_result"
    }
   ],
   "source": [
    "warning_list.head(5)"
   ]
  },
  {
   "cell_type": "code",
   "execution_count": 4,
   "id": "af65ca12",
   "metadata": {},
   "outputs": [],
   "source": [
    "mydb = mysql.connector.connect(\n",
    "  host=\"localhost\",\n",
    "  user=\"dong12\",\n",
    "  password=\"ve450\",\n",
    "  database=\"dong\"\n",
    ")\n",
    "mycursor = mydb.cursor()"
   ]
  },
  {
   "cell_type": "code",
   "execution_count": 5,
   "id": "fe7ce3c2",
   "metadata": {},
   "outputs": [
    {
     "data": {
      "text/plain": [
       "Index(['index', 'label_Chinese', 'label_English', 'function_name',\n",
       "       'function_Chinese', 'function_English', 'group_label_Chinese',\n",
       "       'group_label_English', 'machine_obj_Chinese', 'machine_obj_English'],\n",
       "      dtype='object')"
      ]
     },
     "execution_count": 5,
     "metadata": {},
     "output_type": "execute_result"
    }
   ],
   "source": [
    "column_name = warning_list.columns\n",
    "column_name"
   ]
  },
  {
   "cell_type": "code",
   "execution_count": 6,
   "id": "35cd2507",
   "metadata": {},
   "outputs": [
    {
     "data": {
      "text/plain": [
       "'CREATE TABLE warning (id INT PRIMARY KEY, label_Chinese VARCHAR(255), label_English VARCHAR(255), function_name VARCHAR(255), function_Chinese VARCHAR(255), function_English VARCHAR(255), group_label_Chinese VARCHAR(255), group_label_English VARCHAR(255), machine_obj_Chinese VARCHAR(255), machine_obj_English VARCHAR(255), '"
      ]
     },
     "execution_count": 6,
     "metadata": {},
     "output_type": "execute_result"
    }
   ],
   "source": [
    "# can not use index as column name\n",
    "sql_sentence1 = \"CREATE TABLE warning (id INT PRIMARY KEY, \"\n",
    "for i in range(1, len(column_name)):\n",
    "    temp = column_name[i] + \" VARCHAR(255), \"\n",
    "    sql_sentence1 += temp\n",
    "sql_sentence1"
   ]
  },
  {
   "cell_type": "code",
   "execution_count": 7,
   "id": "e8a24b47",
   "metadata": {},
   "outputs": [
    {
     "data": {
      "text/plain": [
       "'CREATE TABLE warning (id INT PRIMARY KEY, label_Chinese VARCHAR(255), label_English VARCHAR(255), function_name VARCHAR(255), function_Chinese VARCHAR(255), function_English VARCHAR(255), group_label_Chinese VARCHAR(255), group_label_English VARCHAR(255), machine_obj_Chinese VARCHAR(255), machine_obj_English VARCHAR(255), value INT default 0, time datetime default CURRENT_TIMESTAMP);'"
      ]
     },
     "execution_count": 7,
     "metadata": {},
     "output_type": "execute_result"
    }
   ],
   "source": [
    "sql_sentence1 += \"value INT default 0, time datetime default CURRENT_TIMESTAMP);\"\n",
    "sql_sentence1"
   ]
  },
  {
   "cell_type": "code",
   "execution_count": 8,
   "id": "d4e4afab",
   "metadata": {},
   "outputs": [],
   "source": [
    "\n",
    "mycursor.execute(sql_sentence1)"
   ]
  },
  {
   "cell_type": "code",
   "execution_count": 9,
   "id": "8cdf4340",
   "metadata": {},
   "outputs": [
    {
     "name": "stdout",
     "output_type": "stream",
     "text": [
      "('Persons',)\n",
      "('customers',)\n",
      "('warning',)\n"
     ]
    }
   ],
   "source": [
    "mycursor.execute(\"SHOW TABLES\")\n",
    "\n",
    "for x in mycursor:\n",
    "    print(x)"
   ]
  },
  {
   "cell_type": "code",
   "execution_count": 10,
   "id": "3a66d5ce",
   "metadata": {},
   "outputs": [],
   "source": [
    "def searchAll():\n",
    "    sql_sentence = \"SELECT * FROM warning;\"\n",
    "    mycursor.execute(sql_sentence)\n",
    "    myresult = mycursor.fetchall()\n",
    "    for x in myresult:\n",
    "        print(x)"
   ]
  },
  {
   "cell_type": "code",
   "execution_count": 11,
   "id": "959ded5c",
   "metadata": {},
   "outputs": [],
   "source": [
    "searchAll()"
   ]
  },
  {
   "cell_type": "markdown",
   "id": "16d15a72",
   "metadata": {},
   "source": [
    "## start inserting value"
   ]
  },
  {
   "cell_type": "code",
   "execution_count": 12,
   "id": "f2f982d1",
   "metadata": {},
   "outputs": [
    {
     "name": "stderr",
     "output_type": "stream",
     "text": [
      "/tmp/ipykernel_71836/1333519932.py:4: SettingWithCopyWarning: \n",
      "A value is trying to be set on a copy of a slice from a DataFrame\n",
      "\n",
      "See the caveats in the documentation: https://pandas.pydata.org/pandas-docs/stable/user_guide/indexing.html#returning-a-view-versus-a-copy\n",
      "  row[0] = row[0].item()\n"
     ]
    }
   ],
   "source": [
    "val = []\n",
    "for i in range(len(warning_list)):\n",
    "    row = warning_list.iloc[i]\n",
    "    row[0] = row[0].item()\n",
    "    val.append(tuple(row))"
   ]
  },
  {
   "cell_type": "code",
   "execution_count": 13,
   "id": "ee34bddf",
   "metadata": {},
   "outputs": [
    {
     "name": "stdout",
     "output_type": "stream",
     "text": [
      "<class 'int'>\n"
     ]
    }
   ],
   "source": [
    "print(type(val[0][0]))"
   ]
  },
  {
   "cell_type": "code",
   "execution_count": 14,
   "id": "723534a8",
   "metadata": {},
   "outputs": [
    {
     "data": {
      "text/plain": [
       "'(%s, %s, %s, %s, %s, %s, %s, %s, %s, %s );'"
      ]
     },
     "execution_count": 14,
     "metadata": {},
     "output_type": "execute_result"
    }
   ],
   "source": [
    "length = len(val[0])\n",
    "insert_string = \"(\"\n",
    "for i in range(length - 1):\n",
    "    insert_string += \"%s, \"\n",
    "insert_string += \"%s );\"\n",
    "insert_string"
   ]
  },
  {
   "cell_type": "code",
   "execution_count": 15,
   "id": "ebd5b49f",
   "metadata": {},
   "outputs": [
    {
     "data": {
      "text/plain": [
       "'id, label_Chinese, label_English, function_name, function_Chinese, function_English, group_label_Chinese, group_label_English, machine_obj_Chinese, machine_obj_English'"
      ]
     },
     "execution_count": 15,
     "metadata": {},
     "output_type": "execute_result"
    }
   ],
   "source": [
    "columns = list(warning_list.columns)\n",
    "columns[0] = \"id\"\n",
    "insert_destination = tuple(columns)\n",
    "insert_destination = \", \".join(insert_destination)\n",
    "insert_destination"
   ]
  },
  {
   "cell_type": "code",
   "execution_count": 17,
   "id": "26442d59",
   "metadata": {},
   "outputs": [
    {
     "data": {
      "text/plain": [
       "'INSERT INTO warning (id, label_Chinese, label_English, function_name, function_Chinese, function_English, group_label_Chinese, group_label_English, machine_obj_Chinese, machine_obj_English) VALUES (%s, %s, %s, %s, %s, %s, %s, %s, %s, %s );'"
      ]
     },
     "execution_count": 17,
     "metadata": {},
     "output_type": "execute_result"
    }
   ],
   "source": [
    "sql_sentence2 = \"INSERT INTO warning (\"\n",
    "sql_sentence2 += insert_destination + \")\"\n",
    "sql_sentence2 += \" VALUES \" + insert_string\n",
    "sql_sentence2"
   ]
  },
  {
   "cell_type": "code",
   "execution_count": 18,
   "id": "dcbd68a8",
   "metadata": {},
   "outputs": [],
   "source": [
    "\n",
    "mycursor.executemany(sql_sentence2, val)\n",
    "\n",
    "mydb.commit()"
   ]
  },
  {
   "cell_type": "code",
   "execution_count": 20,
   "id": "7cf44ad8",
   "metadata": {},
   "outputs": [
    {
     "name": "stdout",
     "output_type": "stream",
     "text": [
      "(0, '系统启动', 'SYSTEM START0UP', 'cb_gp_powerup_function', '功能: 控制柜启动', 'FUNCTION: CABINET AT START0UP', '电控柜公共组件', 'COMMON CABINET GROUPS', '主机电柜', 'cb_main_maCHine', 0, datetime.datetime(2022, 6, 30, 15, 26, 57))\n",
      "(1, '警告：储存器内的数据被删除', 'WARNING: MEMORIZED DATA CANCELLED', 'cb_gp_powerup_function', '功能: 控制柜启动', 'FUNCTION: CABINET AT START0UP', '电控柜公共组件', 'COMMON CABINET GROUPS', '主机电柜', 'cb_main_maCHine', 0, datetime.datetime(2022, 6, 30, 15, 26, 57))\n",
      "(2, '与YB511电控柜通讯故障', 'DOWNSTREAM COMMUNICATION FAULT 0 YB511', 'cb_main_support_function', '控制柜辅助功能', 'CABINET SUPPORT FUNCTION', '电控柜主组件', 'MAIN CABINET GROUP', '主机电柜', 'cb_main_maCHine', 0, datetime.datetime(2022, 6, 30, 15, 26, 57))\n",
      "(3, '故障：看门狗监视器Ｋ３', 'BREAKDOWN: WATCHDOW MONITOR K3', 'cb_main_support_function', '控制柜辅助功能', 'CABINET SUPPORT FUNCTION', '电控柜主组件', 'MAIN CABINET GROUP', '主机电柜', 'cb_main_maCHine', 0, datetime.datetime(2022, 6, 30, 15, 26, 57))\n",
      "(4, '防护罩继电器  ２Ｋ２０失效', 'RELAY FAULT 2K20  GUARD', 'cb_gp_xx_sg_safety_guard_line_function', '0', '0', '电控柜主组件', 'MAIN CABINET GROUP', '主机电柜', 'cb_main_maCHine', 0, datetime.datetime(2022, 6, 30, 15, 26, 57))\n",
      "(5, '铝箔纸装载机于自动方式', 'FOIL REEL LOADER IN AUTOMATIC MODE', 'cs_motor_management_function', '功能: 铝箔纸装载机电机', 'FUNCTION: FOIL REEL LOADER MOTOR', '电机部件', 'MOTORIZATION GROUP', '铝箔纸装载', 'cs_main_machine', 0, datetime.datetime(2022, 6, 30, 15, 26, 57))\n",
      "(6, '铝箔纸装载机于手动方式', 'FOIL REEL LOADER IN MANUAL MODE', 'cs_motor_management_function', '功能: 铝箔纸装载机电机', 'FUNCTION: FOIL REEL LOADER MOTOR', '电机部件', 'MOTORIZATION GROUP', '铝箔纸装载', 'cs_main_machine', 0, datetime.datetime(2022, 6, 30, 15, 26, 57))\n",
      "(7, '伺服停机', 'SERVICE STOP', 'cs_motor_service_stop_function', '功能: 伺服停机', 'FUNCTION: SERVICE STOP', '电机部件', 'MOTORIZATION GROUP', '铝箔纸装载', 'cs_main_machine', 0, datetime.datetime(2022, 6, 30, 15, 26, 57))\n",
      "(8, '铝箔纸凸轮轴循环终点无', 'FOIL CAM AXIS: NO END0OF0CYCLE', 'xx_foil_automatic_splice_function', '功能: 铝箔纸自动更换', 'FUNCTION: AUTOMATIC FOIL CHANGE', '铝箔纸组件', 'FOIL GROUP', '主机', 'xx_main_machine', 0, datetime.datetime(2022, 6, 30, 15, 26, 57))\n",
      "(9, '铝箔纸卷锁定装置不能开启', 'NO UNLOCK FOR FOIL REEL DRUM', 'xx_foil_automatic_splice_function', '功能: 铝箔纸自动更换', 'FUNCTION: AUTOMATIC FOIL CHANGE', '铝箔纸组件', 'FOIL GROUP', '主机', 'xx_main_machine', 0, datetime.datetime(2022, 6, 30, 15, 26, 57))\n",
      "(10, '铝箔纸凸轮轴循环中点无', 'FOIL CAM AXIS: NO MID0CYCLE', 'xx_foil_automatic_splice_function', '功能: 铝箔纸自动更换', 'FUNCTION: AUTOMATIC FOIL CHANGE', '铝箔纸组件', 'FOIL GROUP', '主机', 'xx_main_machine', 0, datetime.datetime(2022, 6, 30, 15, 26, 57))\n",
      "(11, '铝箔纸鼓轮未转动', 'FOIL DRUM NOT TURNING', 'xx_foil_automatic_splice_function', '功能: 铝箔纸自动更换', 'FUNCTION: AUTOMATIC FOIL CHANGE', '铝箔纸组件', 'FOIL GROUP', '主机', 'xx_main_machine', 0, datetime.datetime(2022, 6, 30, 15, 26, 57))\n",
      "(12, '铝箔纸预松卷电机扭钜输出过载', 'OVERLOAD OF MOTOR TORQUE OUTPUT OF FOIL', 'xx_foil_preunwinding_function', '功能: 铝箔纸预展开', 'FUNCTION: FOIL PRE0UNWINDING', '铝箔纸组件', 'FOIL GROUP', '主机', 'xx_main_machine', 0, datetime.datetime(2022, 6, 30, 15, 26, 57))\n",
      "(13, '上槽重复小包／排除堵塞', 'UPPER BEAM RETREAT PACKET/EXTRACTION JAM', 'xx_beam_upper_packet_pos_function', '上槽小包控制功能', 'UPPER BEAM PACKET CONTROL FUNCTION', '梁架组件', 'CONVEYOR GROUP', '主机', 'xx_main_machine', 0, datetime.datetime(2022, 6, 30, 15, 26, 57))\n",
      "(14, '上槽入口处的小包检测无效', 'UPPER BEAM ENTRANCE PACK CONTR. INEFF.', 'xx_beam_upper_packet_pos_function', '上槽小包控制功能', 'UPPER BEAM PACKET CONTROL FUNCTION', '梁架组件', 'CONVEYOR GROUP', '主机', 'xx_main_machine', 0, datetime.datetime(2022, 6, 30, 15, 26, 57))\n",
      "(15, '商标纸无印刷', 'NO PRINT ON BLANKS', 'xx_blank_1drum_print_check_function', '功能: 盒片印刷检测', 'FUNCTION: BLANK PRINT CHECK', '盒片部件', 'BLANK GROUP', '主机', 'xx_main_machine', 0, datetime.datetime(2022, 6, 30, 15, 26, 57))\n",
      "(16, '故障：商标纸印刷检测', 'FAIL: BLANK PRINT CHECK', 'xx_blank_1drum_print_check_function', '功能: 盒片印刷检测', 'FUNCTION: BLANK PRINT CHECK', '盒片部件', 'BLANK GROUP', '主机', 'xx_main_machine', 0, datetime.datetime(2022, 6, 30, 15, 26, 57))\n",
      "(17, '鼓轮2 上无商标纸\\u3000\\u3000', 'NO BLANK ON 2ND DRUM', 'xx_blank_2drum_pres_align_function', '功能: 鼓轮2上盒片存在与对直', 'FUNCT.: PRES./ALIGN 0 BLANKS 2ND DRUM', '盒片部件', 'BLANK GROUP', '主机', 'xx_main_machine', 0, datetime.datetime(2022, 6, 30, 15, 26, 57))\n",
      "(18, '鼓轮2 上商标纸错位：延缓\\u3000\\u3000', 'BAD BLANK POSITION ON 2ND DRUM: LATE', 'xx_blank_2drum_pres_align_function', '功能: 鼓轮2上盒片存在与对直', 'FUNCT.: PRES./ALIGN 0 BLANKS 2ND DRUM', '盒片部件', 'BLANK GROUP', '主机', 'xx_main_machine', 0, datetime.datetime(2022, 6, 30, 15, 26, 57))\n",
      "(19, '故障：鼓轮2 上商标纸的存在', 'FAULT: BLANK PRESENCE ON 2ND DRUM', 'xx_blank_2drum_pres_align_function', '功能: 鼓轮2上盒片存在与对直', 'FUNCT.: PRES./ALIGN 0 BLANKS 2ND DRUM', '盒片部件', 'BLANK GROUP', '主机', 'xx_main_machine', 0, datetime.datetime(2022, 6, 30, 15, 26, 57))\n",
      "(20, '鼓轮2 上商标纸的存在：内侧检测故障', '2ND DRUM BLANK PRESENCE: INNER CHK FAULT', 'xx_blank_2drum_pres_align_function', '功能: 鼓轮2上盒片存在与对直', 'FUNCT.: PRES./ALIGN 0 BLANKS 2ND DRUM', '盒片部件', 'BLANK GROUP', '主机', 'xx_main_machine', 0, datetime.datetime(2022, 6, 30, 15, 26, 57))\n",
      "(21, '鼓轮2 上商标纸未对直', 'DISALIGNED BLANK ON 2ND DRUM', 'xx_blank_2drum_pres_align_function', '功能: 鼓轮2上盒片存在与对直', 'FUNCT.: PRES./ALIGN 0 BLANKS 2ND DRUM', '盒片部件', 'BLANK GROUP', '主机', 'xx_main_machine', 0, datetime.datetime(2022, 6, 30, 15, 26, 57))\n",
      "(22, '鼓轮2 上商标纸错位：提前\\u3000\\u3000\\u3000\\u3000', 'BAD BLANK POSITION ON 2ND DRUM: EARLY', 'xx_blank_2drum_pres_align_function', '功能: 鼓轮2上盒片存在与对直', 'FUNCT.: PRES./ALIGN 0 BLANKS 2ND DRUM', '盒片部件', 'BLANK GROUP', '主机', 'xx_main_machine', 0, datetime.datetime(2022, 6, 30, 15, 26, 57))\n",
      "(23, '鼓轮2 上商标纸的存在：外侧检测故障', '2ND DRUM BLANK PRESENCE: OUTER CHK FAULT', 'xx_blank_2drum_pres_align_function', '功能: 鼓轮2上盒片存在与对直', 'FUNCT.: PRES./ALIGN 0 BLANKS 2ND DRUM', '盒片部件', 'BLANK GROUP', '主机', 'xx_main_machine', 0, datetime.datetime(2022, 6, 30, 15, 26, 57))\n",
      "(24, '鼓轮3 上缺失第一前耳的检测    \\u3000', 'BLANKS WITH NO 1ST FRONT BLANK0EAR DRUM3', 'xx_blank_belt_front_flap_check_function', '功能: 皮带上的前部盒片耳检测', 'FUNCTION: FRONT BLANK0EAR CHECK ON BELT', '盒片部件', 'BLANK GROUP', '主机', 'xx_main_machine', 0, datetime.datetime(2022, 6, 30, 15, 26, 57))\n",
      "(25, '鼓轮3 上无第二前耳的商标纸      \\u3000', 'BLANKS WITH NO 2ND FRONT BLANK0EAR DRUM3', 'xx_blank_belt_front_flap_check_function', '功能: 皮带上的前部盒片耳检测', 'FUNCTION: FRONT BLANK0EAR CHECK ON BELT', '盒片部件', 'BLANK GROUP', '主机', 'xx_main_machine', 0, datetime.datetime(2022, 6, 30, 15, 26, 57))\n",
      "(26, '故障：鼓轮3 上前部商标纸耳检测', 'FAULT: FRONT BLANK0EAR CHECK 0 DRUM3', 'xx_blank_belt_front_flap_check_function', '功能: 皮带上的前部盒片耳检测', 'FUNCTION: FRONT BLANK0EAR CHECK ON BELT', '盒片部件', 'BLANK GROUP', '主机', 'xx_main_machine', 0, datetime.datetime(2022, 6, 30, 15, 26, 57))\n",
      "(27, '鼓轮3 皮带上商标纸检测器：检测失效', 'BLANK PRES. ON 3RD D. BELT: INEFF. CHECK', 'xx_blank_belt_presence_check_function', '皮带上盒片存在检测功能', 'BLANK PRESENCE ON BELT CHECK FUNCTION', '盒片部件', 'BLANK GROUP', '主机', 'xx_main_machine', 0, datetime.datetime(2022, 6, 30, 15, 26, 57))\n",
      "(28, '鼓轮3 皮带上缺商标纸', 'BLANK ABSENT ON 3RD DRUM BELT', 'xx_blank_belt_presence_check_function', '皮带上盒片存在检测功能', 'BLANK PRESENCE ON BELT CHECK FUNCTION', '盒片部件', 'BLANK GROUP', '主机', 'xx_main_machine', 0, datetime.datetime(2022, 6, 30, 15, 26, 57))\n",
      "(29, '关闭商标纸部件停机', 'BLANK GROUP STOP BYPASS', 'xx_blank_checks_disable_function', '功能: 关闭盒片部件停机', 'FUNCTION: BLANK GROUP STOP BYPASS', '盒片部件', 'BLANK GROUP', '主机', 'xx_main_machine', 0, datetime.datetime(2022, 6, 30, 15, 26, 57))\n",
      "(30, '商标纸胶缸啮合超时', 'ENGAGED BLANK GLUER TIME OUT', 'xx_blank_gluer_disengage_function', '功能: 盒片涂胶器脱开', 'FUNCTION: BLANK GLUER RELEASE', '盒片部件', 'BLANK GROUP', '主机', 'xx_main_machine', 0, datetime.datetime(2022, 6, 30, 15, 26, 57))\n",
      "(31, '未超时的涂胶器再联机', 'MISSED TIMEOUT GLUER RE0ENGAGE', 'xx_blank_gluer_motion_check_function', '功能: 涂胶器转动检测', 'FUNCTION: GLUER ROTATION CHECK', '盒片部件', 'BLANK GROUP', '主机', 'xx_main_machine', 0, datetime.datetime(2022, 6, 30, 15, 26, 57))\n",
      "(32, '涂胶器转动／啮合时异常', 'MALFUNCTION ON ROTATION/GLUER ENGAGE', 'xx_blank_gluer_motion_check_function', '功能: 涂胶器转动检测', 'FUNCTION: GLUER ROTATION CHECK', '盒片部件', 'BLANK GROUP', '主机', 'xx_main_machine', 0, datetime.datetime(2022, 6, 30, 15, 26, 57))\n",
      "(33, '盒片涂胶器不转动  BLANK', 'GLUER NOT TURNING', 'xx_blank_gluer_motion_check_function', '功能: 涂胶器转动检测', 'FUNCTION: GLUER ROTATION CHECK', '盒片部件', 'BLANK GROUP', '主机', 'xx_main_machine', 0, datetime.datetime(2022, 6, 30, 15, 26, 57))\n",
      "(34, '输送器越过后退极限位置', 'TRANSLATOR OUT FROM BACK END OF RUN', 'xx_blank_stack_feed_cycle_function', '功能: 盒片叠供料循环', 'FUNCTION: BLANK STACK FEED CYCLE', '盒片部件', 'BLANK GROUP', '主机', 'xx_main_machine', 0, datetime.datetime(2022, 6, 30, 15, 26, 57))\n",
      "(35, '输送器越过前进极限位置', 'TRANSLATOR OUT FROM FORWARD END OF RUN', 'xx_blank_stack_feed_cycle_function', '功能: 盒片叠供料循环', 'FUNCTION: BLANK STACK FEED CYCLE', '盒片部件', 'BLANK GROUP', '主机', 'xx_main_machine', 0, datetime.datetime(2022, 6, 30, 15, 26, 57))\n",
      "(36, '输送器料库和钳子未停止', 'TRANSLATOR IN HOPPER, PINCERS NOT CLOSED', 'xx_blank_stack_feed_cycle_function', '功能: 盒片叠供料循环', 'FUNCTION: BLANK STACK FEED CYCLE', '盒片部件', 'BLANK GROUP', '主机', 'xx_main_machine', 0, datetime.datetime(2022, 6, 30, 15, 26, 57))\n"
     ]
    }
   ],
   "source": [
    "searchAll()"
   ]
  },
  {
   "cell_type": "code",
   "execution_count": null,
   "id": "e8bd4ca1",
   "metadata": {},
   "outputs": [],
   "source": []
  },
  {
   "cell_type": "code",
   "execution_count": null,
   "id": "559e6710",
   "metadata": {},
   "outputs": [],
   "source": []
  }
 ],
 "metadata": {
  "kernelspec": {
   "display_name": "my_envs",
   "language": "python",
   "name": "my_envs"
  },
  "language_info": {
   "codemirror_mode": {
    "name": "ipython",
    "version": 3
   },
   "file_extension": ".py",
   "mimetype": "text/x-python",
   "name": "python",
   "nbconvert_exporter": "python",
   "pygments_lexer": "ipython3",
   "version": "3.10.4"
  }
 },
 "nbformat": 4,
 "nbformat_minor": 5
}
