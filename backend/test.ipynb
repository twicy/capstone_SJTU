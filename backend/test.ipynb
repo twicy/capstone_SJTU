{
 "cells": [
  {
   "cell_type": "code",
   "execution_count": 1,
   "id": "845dce84",
   "metadata": {},
   "outputs": [],
   "source": [
    "from urllib import request\n",
    "import requests\n",
    "import mysql.connector\n",
    "from mysql.connector import Error\n",
    "import logging\n",
    "from random import random, seed\n",
    "from random import randint, randrange\n",
    "import threading\n",
    "import json\n",
    "from datetime import datetime\n",
    "from time import time\n",
    "import time\n",
    "import sys\n",
    "import generate_warnings\n",
    "from tqdm import tqdm\n",
    "import pandas as pd"
   ]
  },
  {
   "cell_type": "markdown",
   "id": "9f56cd77",
   "metadata": {},
   "source": [
    "## 1. Test with random generation"
   ]
  },
  {
   "cell_type": "markdown",
   "id": "edb89707",
   "metadata": {},
   "source": [
    "### 1.1 GetNewWarning"
   ]
  },
  {
   "cell_type": "code",
   "execution_count": 3,
   "id": "3c17c2ab",
   "metadata": {},
   "outputs": [
    {
     "name": "stderr",
     "output_type": "stream",
     "text": [
      "100%|███████████████████████████████████████| 1000/1000 [03:26<00:00,  4.83it/s]"
     ]
    },
    {
     "name": "stdout",
     "output_type": "stream",
     "text": [
      "{'mean': 0.005184056282043457, 'max': 0.12175226211547852, 'min': 0.0028994083404541016}\n"
     ]
    },
    {
     "name": "stderr",
     "output_type": "stream",
     "text": [
      "\n"
     ]
    }
   ],
   "source": [
    "n = 1000\n",
    "my_url= \"http://localhost:8080/api/warnings/new\"\n",
    "res_redis = []\n",
    "res_sql = []\n",
    "# here is sql\n",
    "for i in tqdm(range(n)):\n",
    "    time.sleep(0.2)\n",
    "    start = time.time()\n",
    "    r = requests.get(url=my_url)\n",
    "    end = time.time()\n",
    "    res_sql.append([i, end - start])\n",
    "df_getnewwarning_sql = pd.DataFrame(res_sql,columns = [\"i\", \"time\"])\n",
    "df_getnewwarning_sql.to_csv(\"getnewwarning_sql_detail.csv\")\n",
    "\n",
    "print({\"mean\":df_getnewwarning_sql[\"time\"].mean(), \"max\":df_getnewwarning_sql[\"time\"].max(), \"min\":df_getnewwarning_sql[\"time\"].min()})"
   ]
  },
  {
   "cell_type": "code",
   "execution_count": null,
   "id": "10334880",
   "metadata": {},
   "outputs": [
    {
     "name": "stderr",
     "output_type": "stream",
     "text": [
      " 95%|██████████████████████████████████████  | 952/1000 [03:47<00:12,  3.88it/s]"
     ]
    }
   ],
   "source": [
    "# here is sql\n",
    "for i in tqdm(range(n)):\n",
    "    time.sleep(0.2)\n",
    "    start = time.time()\n",
    "    r = requests.get(url=my_url)\n",
    "    end = time.time()\n",
    "    res_redis.append([i, end - start])\n",
    "df_getnewwarning_redis = pd.DataFrame(res_redis,columns = [\"i\", \"time\"])\n",
    "df_getnewwarning_redis.to_csv(\"getnewwarning_redis_detail.csv\")\n",
    "\n",
    "print({\"mean\":df_getnewwarning_redis[\"time\"].mean(), \n",
    "       \"max\":df_getnewwarning_redis[\"time\"].max(), \n",
    "       \"min\":df_getnewwarning_redis[\"time\"].min()})"
   ]
  },
  {
   "cell_type": "code",
   "execution_count": null,
   "id": "16d66395",
   "metadata": {},
   "outputs": [],
   "source": []
  }
 ],
 "metadata": {
  "kernelspec": {
   "display_name": "my_envs",
   "language": "python",
   "name": "my_envs"
  },
  "language_info": {
   "codemirror_mode": {
    "name": "ipython",
    "version": 3
   },
   "file_extension": ".py",
   "mimetype": "text/x-python",
   "name": "python",
   "nbconvert_exporter": "python",
   "pygments_lexer": "ipython3",
   "version": "3.10.4"
  }
 },
 "nbformat": 4,
 "nbformat_minor": 5
}
